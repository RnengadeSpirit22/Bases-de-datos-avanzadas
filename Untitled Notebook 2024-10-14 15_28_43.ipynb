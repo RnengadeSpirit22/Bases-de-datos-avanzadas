version https://git-lfs.github.com/spec/v1
oid sha256:52d867955a0064682e56b28bd11ced535cf5ee19837217ab7975723dc092a7b3
size 39245
